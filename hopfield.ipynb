{
 "cells": [
  {
   "cell_type": "markdown",
   "metadata": {},
   "source": [
    "Inspired by https://towardsdatascience.com/hopfield-networks-neural-memory-machines-4c94be821073"
   ]
  },
  {
   "cell_type": "code",
   "execution_count": 1,
   "metadata": {},
   "outputs": [],
   "source": [
    "import jax\n",
    "import jax.numpy as jnp\n",
    "import matplotlib.pyplot as plt\n",
    "\n",
    "class Hopfield:\n",
    "    # array: jax.Array\n",
    "    weights: jax.Array\n",
    "    \n",
    "    def __init__(self, size):\n",
    "        self.weights = jnp.zeros((size, size))\n",
    "\n",
    "    def update_weights(self, state: jax.Array): \n",
    "        self.weights = (1/state.shape[0]) * jnp.outer(state.T, state)\n",
    "        self.weights = jnp.fill_diagonal(self.weights, 0, inplace=False)\n",
    "\n",
    "    def update_state(self, state, key):\n",
    "        mask =jax.random.uniform(key, state.shape) > 0.75\n",
    "        # print(mask)\n",
    "        # print(f\"Weights: {self.weights}, state: {state}\")\n",
    "        # print(self.weights @ state)\n",
    "        new_values = 2*(jnp.dot(self.weights, state) > 0) - 1\n",
    "        return mask * new_values + (1 - mask) * state\n",
    "    \n",
    "    def compute_energy(self, state):\n",
    "        return -0.5*jnp.dot(jnp.dot(state.T, self.weights),state)\n",
    "    "
   ]
  },
  {
   "cell_type": "code",
   "execution_count": 2,
   "metadata": {},
   "outputs": [
    {
     "name": "stdout",
     "output_type": "stream",
     "text": [
      "[[ 0.         -0.33333334 -0.33333334]\n",
      " [-0.33333334  0.          0.33333334]\n",
      " [-0.33333334  0.33333334  0.        ]]\n",
      "[-1  1  1]\n"
     ]
    },
    {
     "data": {
      "text/plain": [
       "Array([[ 0.        , -0.33333334, -0.33333334],\n",
       "       [-0.33333334,  0.        ,  0.33333334],\n",
       "       [-0.33333334,  0.33333334,  0.        ]],      dtype=float32, weak_type=True)"
      ]
     },
     "execution_count": 2,
     "metadata": {},
     "output_type": "execute_result"
    }
   ],
   "source": [
    "key = jax.random.key(0)\n",
    "hop = Hopfield(2)\n",
    "hop.update_weights(jnp.array([-1, 1, 1]))\n",
    "print(hop.weights)\n",
    "state = jnp.array([-1, 1, -1])\n",
    "for i in range(10):\n",
    "    key, k = jax.random.split(key)\n",
    "    # print(state)\n",
    "    state = hop.update_state(state, key)\n",
    "\n",
    "print(state)\n",
    "hop.weights"
   ]
  },
  {
   "cell_type": "code",
   "execution_count": 3,
   "metadata": {},
   "outputs": [
    {
     "name": "stdout",
     "output_type": "stream",
     "text": [
      "pygame 2.6.1 (SDL 2.28.4, Python 3.11.11)\n",
      "Hello from the pygame community. https://www.pygame.org/contribute.html\n"
     ]
    },
    {
     "name": "stderr",
     "output_type": "stream",
     "text": [
      "2025-01-10 12:19:46.350 python[36745:9956961] +[IMKClient subclass]: chose IMKClient_Legacy\n",
      "2025-01-10 12:19:46.350 python[36745:9956961] +[IMKInputSession subclass]: chose IMKInputSession_Legacy\n"
     ]
    },
    {
     "ename": "error",
     "evalue": "display Surface quit",
     "output_type": "error",
     "traceback": [
      "\u001b[0;31m---------------------------------------------------------------------------\u001b[0m",
      "\u001b[0;31merror\u001b[0m                                     Traceback (most recent call last)",
      "Cell \u001b[0;32mIn[3], line 86\u001b[0m\n\u001b[1;32m     83\u001b[0m     frames[\u001b[38;5;241m0\u001b[39m]\u001b[38;5;241m.\u001b[39msave(\u001b[38;5;124m\"\u001b[39m\u001b[38;5;124mhopfield_network.gif\u001b[39m\u001b[38;5;124m\"\u001b[39m, save_all\u001b[38;5;241m=\u001b[39m\u001b[38;5;28;01mTrue\u001b[39;00m, append_images\u001b[38;5;241m=\u001b[39mframes[\u001b[38;5;241m1\u001b[39m:], duration\u001b[38;5;241m=\u001b[39m\u001b[38;5;241m50\u001b[39m, loop\u001b[38;5;241m=\u001b[39m\u001b[38;5;241m0\u001b[39m)\n\u001b[1;32m     84\u001b[0m     \u001b[38;5;28mprint\u001b[39m(\u001b[38;5;124m\"\u001b[39m\u001b[38;5;124mGIF saved as hopfield_network.gif\u001b[39m\u001b[38;5;124m\"\u001b[39m)\n\u001b[0;32m---> 86\u001b[0m \u001b[43mMNIST_Hopfield\u001b[49m\u001b[43m(\u001b[49m\u001b[43m)\u001b[49m\n\u001b[1;32m     87\u001b[0m plt\u001b[38;5;241m.\u001b[39mshow()\n",
      "Cell \u001b[0;32mIn[3], line 58\u001b[0m, in \u001b[0;36mMNIST_Hopfield\u001b[0;34m()\u001b[0m\n\u001b[1;32m     55\u001b[0m         pygame\u001b[38;5;241m.\u001b[39mquit()\n\u001b[1;32m     57\u001b[0m \u001b[38;5;66;03m# Fills surface with color\u001b[39;00m\n\u001b[0;32m---> 58\u001b[0m \u001b[43msurface\u001b[49m\u001b[38;5;241;43m.\u001b[39;49m\u001b[43mfill\u001b[49m\u001b[43m(\u001b[49m\u001b[43m(\u001b[49m\u001b[38;5;241;43m211\u001b[39;49m\u001b[43m,\u001b[49m\u001b[43m \u001b[49m\u001b[38;5;241;43m211\u001b[39;49m\u001b[43m,\u001b[49m\u001b[43m \u001b[49m\u001b[38;5;241;43m211\u001b[39;49m\u001b[43m)\u001b[49m\u001b[43m)\u001b[49m \n\u001b[1;32m     60\u001b[0m \u001b[38;5;66;03m# Loop through network state array and update colors for each cell\u001b[39;00m\n\u001b[1;32m     61\u001b[0m \u001b[38;5;28;01mfor\u001b[39;00m r \u001b[38;5;129;01min\u001b[39;00m \u001b[38;5;28mrange\u001b[39m(\u001b[38;5;241m28\u001b[39m):  \u001b[38;5;66;03m# Iterate over rows\u001b[39;00m\n",
      "\u001b[0;31merror\u001b[0m: display Surface quit"
     ]
    }
   ],
   "source": [
    "\n",
    "#for MNIST fetch\n",
    "import requests, gzip, os, hashlib\n",
    "import pygame\n",
    "import matplotlib.pyplot as plt\n",
    "import tensorflow \n",
    "\n",
    "#Fetch MNIST dataset from the ~SOURCE~\n",
    "def fetch_MNIST():\n",
    "\n",
    "    (x_train, y_train), (x_test, y_test) = tensorflow.keras.datasets.mnist.load_data()\n",
    "    x_train = jnp.expand_dims(x_train, -1)\n",
    "    x_test = jnp.expand_dims(x_test, -1)\n",
    "    return x_train\n",
    "\n",
    "import os\n",
    "from PIL import Image\n",
    "import jax\n",
    "import jax.numpy as jnp\n",
    "\n",
    "# Make a directory to save frames\n",
    "os.makedirs(\"hopfield_frames\", exist_ok=True)\n",
    "\n",
    "def MNIST_Hopfield(): \n",
    "    # Fetch MNIST dataset for some random memory downloads\n",
    "    X = fetch_MNIST().reshape((-1, 784))\n",
    "    \n",
    "    # Convert to binary\n",
    "    X_binary = jnp.where(X > 20, 1, -1)\n",
    "\n",
    "    # Snag a memory from computer brain\n",
    "    memories_list = jnp.array([X_binary[1]])\n",
    "    \n",
    "    # Initialize Hopfield object\n",
    "    H_Net = Hopfield(784)\n",
    "    H_Net.update_weights(memories_list)\n",
    "\n",
    "    # Draw it all out, updating board each update iteration\n",
    "    cellsize = 20\n",
    "    pygame.init()  # Initialize pygame\n",
    "    surface = pygame.display.set_mode((28 * cellsize, 28 * cellsize)) \n",
    "    pygame.display.set_caption(\"Hopfield Network Visualization\")\n",
    "    \n",
    "    Running = True\n",
    "    key = jax.random.PRNGKey(0)\n",
    "    cells = jax.random.normal(key=jax.random.PRNGKey(1), shape=(784,)) > 0\n",
    "\n",
    "    frame_count = 0  # To save frames\n",
    "    \n",
    "    while Running:\n",
    "        for event in pygame.event.get():\n",
    "            if event.type == pygame.QUIT:\n",
    "                Running = False\n",
    "                \n",
    "                # Quit pygame\n",
    "                pygame.quit()\n",
    "    \n",
    "        # Fills surface with color\n",
    "        surface.fill((211, 211, 211)) \n",
    "        \n",
    "        # Loop through network state array and update colors for each cell\n",
    "        for r in range(28):  # Iterate over rows\n",
    "            for c in range(28):  # Iterate over columns\n",
    "                if cells[r * 28 + c] == -1:\n",
    "                    col = (135, 206, 250)\n",
    "                elif cells[r * 28 + c] == 1:\n",
    "                    col = (0, 0, 128)\n",
    "                else: \n",
    "                    col = (255, 140, 0)\n",
    "                pygame.draw.rect(surface, col, (r * cellsize, c * cellsize, cellsize, cellsize)) # Draw new cell\n",
    "        \n",
    "        # Save each frame as an image\n",
    "        pygame.image.save(surface, f\"hopfield_frames/frame_{frame_count:03d}.png\")\n",
    "        frame_count += 1\n",
    "\n",
    "        # Update network state\n",
    "        key, kk = jax.random.split(key)\n",
    "        cells = H_Net.update_state(cells, kk)\n",
    "        pygame.display.update()  # Updates display from new .draw in update function\n",
    "        pygame.time.wait(50)\n",
    "\n",
    "    # Create a GIF from saved frames\n",
    "    frames = [Image.open(f\"hopfield_frames/frame_{i:03d}.png\") for i in range(frame_count)]\n",
    "    frames[0].save(\"hopfield_network.gif\", save_all=True, append_images=frames[1:], duration=50, loop=0)\n",
    "    print(\"GIF saved as hopfield_network.gif\")\n",
    "\n",
    "MNIST_Hopfield()\n",
    "plt.show() \n"
   ]
  },
  {
   "cell_type": "code",
   "execution_count": null,
   "metadata": {},
   "outputs": [],
   "source": []
  }
 ],
 "metadata": {
  "kernelspec": {
   "display_name": "wotts",
   "language": "python",
   "name": "python3"
  },
  "language_info": {
   "codemirror_mode": {
    "name": "ipython",
    "version": 3
   },
   "file_extension": ".py",
   "mimetype": "text/x-python",
   "name": "python",
   "nbconvert_exporter": "python",
   "pygments_lexer": "ipython3",
   "version": "3.11.11"
  }
 },
 "nbformat": 4,
 "nbformat_minor": 2
}
